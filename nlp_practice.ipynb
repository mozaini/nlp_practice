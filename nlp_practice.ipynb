{
 "cells": [
  {
   "cell_type": "markdown",
   "id": "d2795cd6",
   "metadata": {},
   "source": [
    "### Get Started with Natural Language Processing \n",
    "\n",
    "~ In this notebook I will be exploring NLP Toolkit NLTK to preprocess already gathered tweets for sentiments analysis\n",
    "<br >\n",
    "~ I am going to use a datasets contains 10K tweets that are already annotated\n"
   ]
  },
  {
   "cell_type": "code",
   "execution_count": null,
   "id": "4aeda1e5",
   "metadata": {},
   "outputs": [],
   "source": [
    "# Importing necessary libraries \n",
    "import nltk\n",
    "from nltk.cropus import twitter_samples\n",
    "import matplo"
   ]
  }
 ],
 "metadata": {
  "hide_input": false,
  "kernelspec": {
   "display_name": "Python 3",
   "language": "python",
   "name": "python3"
  },
  "language_info": {
   "codemirror_mode": {
    "name": "ipython",
    "version": 3
   },
   "file_extension": ".py",
   "mimetype": "text/x-python",
   "name": "python",
   "nbconvert_exporter": "python",
   "pygments_lexer": "ipython3",
   "version": "3.8.8"
  }
 },
 "nbformat": 4,
 "nbformat_minor": 5
}
