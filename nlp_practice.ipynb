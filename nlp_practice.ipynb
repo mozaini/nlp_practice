{
 "cells": [
  {
   "cell_type": "markdown",
   "id": "058b446e",
   "metadata": {},
   "source": [
    "### Get Started with Natural Language Processing \n",
    "\n",
    "~ In this notebook I will be exploring NLP Toolkit NLTK to preprocess already gathered tweets for sentiments analysis\n",
    "<br >\n",
    "~ I am going to use a datasets contains 10K tweets that are already annotated\n"
   ]
  },
  {
   "cell_type": "code",
   "execution_count": 2,
   "id": "38b1ec2c",
   "metadata": {},
   "outputs": [],
   "source": [
    "# Importing necessary libraries \n",
    "import nltk\n",
    "from nltk.corpus import twitter_samples\n",
    "import matplotlib.pyplot as plt\n",
    "import random"
   ]
  },
  {
   "cell_type": "code",
   "execution_count": 3,
   "id": "967af69e",
   "metadata": {},
   "outputs": [
    {
     "name": "stderr",
     "output_type": "stream",
     "text": [
      "[nltk_data] Downloading package twitter_samples to\n",
      "[nltk_data]     /Users/mozaini/nltk_data...\n",
      "[nltk_data]   Unzipping corpora/twitter_samples.zip.\n"
     ]
    },
    {
     "data": {
      "text/plain": [
       "True"
      ]
     },
     "execution_count": 3,
     "metadata": {},
     "output_type": "execute_result"
    }
   ],
   "source": [
    "# Download twitter_sample datasets\n",
    "\n",
    "nltk.download('twitter_samples')"
   ]
  },
  {
   "cell_type": "code",
   "execution_count": 4,
   "id": "9eefee35",
   "metadata": {},
   "outputs": [],
   "source": [
    "# Segment the dataset by splitting into positive and negative datasets\n",
    "positive_tweets = twitter_samples.strings('positive_tweets.json')\n",
    "negative_tweets = twitter_samples.strings('negative_tweets.json')"
   ]
  },
  {
   "cell_type": "code",
   "execution_count": 10,
   "id": "c09fd858",
   "metadata": {},
   "outputs": [
    {
     "data": {
      "text/plain": [
       "['#FollowFriday @France_Inte @PKuchly57 @Milipol_Paris for being top engaged members in my community this week :)',\n",
       " '@Lamb2ja Hey James! How odd :/ Please call our Contact Centre on 02392441234 and we will be able to assist you :) Many thanks!']"
      ]
     },
     "execution_count": 10,
     "metadata": {},
     "output_type": "execute_result"
    }
   ],
   "source": [
    "# overveiw of postive tweets\n",
    "positive_tweets[:2]"
   ]
  },
  {
   "cell_type": "code",
   "execution_count": 13,
   "id": "8bc48da4",
   "metadata": {},
   "outputs": [
    {
     "data": {
      "text/plain": [
       "['hopeless for tmr :(',\n",
       " \"Everything in the kids section of IKEA is so cute. Shame I'm nearly 19 in 2 months :(\"]"
      ]
     },
     "execution_count": 13,
     "metadata": {},
     "output_type": "execute_result"
    }
   ],
   "source": [
    "# overveiw on postive tweets\n",
    "negative_tweets[:2]"
   ]
  },
  {
   "cell_type": "code",
   "execution_count": 16,
   "id": "95e09901",
   "metadata": {},
   "outputs": [
    {
     "name": "stdout",
     "output_type": "stream",
     "text": [
      "positive tweets number:  5000 type of tweets: <class 'list'>\n",
      "negative  tweets number:  5000 type of negative tweets: <class 'list'>\n"
     ]
    }
   ],
   "source": [
    "# Now let's look at the # of positive tweets and number of negative tweets leveraging len() function\n",
    "\n",
    "print('positive tweets number: ', len(positive_tweets), \"type of tweets:\", type(positive_tweets) )\n",
    "print('negative  tweets number: ', len(negative_tweets), \"type of negative tweets:\", type(negative_tweets))"
   ]
  },
  {
   "cell_type": "code",
   "execution_count": 20,
   "id": "4edb8541",
   "metadata": {},
   "outputs": [
    {
     "data": {
      "image/png": "[encoded data removed]",
      "text/plain": [
       "<Figure size 432x288 with 1 Axes>"
      ]
     },
     "metadata": {},
     "output_type": "display_data"
    }
   ],
   "source": [
    "plt.pie([len(positive_tweets), len(negative_tweets)], labels=(\"positve\",\"negative\"), autopct='%1.1f%%', startangle=90);"
   ]
  }
 ],
 "metadata": {
  "hide_input": false,
  "kernelspec": {
   "display_name": "Python 3",
   "language": "python",
   "name": "python3"
  },
  "language_info": {
   "codemirror_mode": {
    "name": "ipython",
    "version": 3
   },
   "file_extension": ".py",
   "mimetype": "text/x-python",
   "name": "python",
   "nbconvert_exporter": "python",
   "pygments_lexer": "ipython3",
   "version": "3.8.8"
  }
 },
 "nbformat": 4,
 "nbformat_minor": 5
}
