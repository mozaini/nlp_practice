{
 "cells": [
  {
   "cell_type": "markdown",
   "id": "237c9707",
   "metadata": {},
   "source": [
    "### Get Started with Natural Language Processing \n",
    "\n",
    "~ In this notebook I will be exploring NLP Toolkit NLTK to preprocess already gathered tweets for sentiments analysis\n",
    "<br >\n",
    "~ I am going to use a datasets contains 10K tweets that are already annotated\n"
   ]
  },
  {
   "cell_type": "code",
   "execution_count": 2,
   "id": "66b687cd",
   "metadata": {},
   "outputs": [],
   "source": [
    "# Importing necessary libraries \n",
    "import nltk\n",
    "from nltk.corpus import twitter_samples\n",
    "import matplotlib.pyplot as plt\n",
    "import random"
   ]
  },
  {
   "cell_type": "code",
   "execution_count": 3,
   "id": "482d4f46",
   "metadata": {},
   "outputs": [
    {
     "name": "stderr",
     "output_type": "stream",
     "text": [
      "[nltk_data] Downloading package twitter_samples to\n",
      "[nltk_data]     /Users/mozaini/nltk_data...\n",
      "[nltk_data]   Unzipping corpora/twitter_samples.zip.\n"
     ]
    },
    {
     "data": {
      "text/plain": [
       "True"
      ]
     },
     "execution_count": 3,
     "metadata": {},
     "output_type": "execute_result"
    }
   ],
   "source": [
    "# Download twitter_sample datasets\n",
    "\n",
    "nltk.download('twitter_samples')"
   ]
  },
  {
   "cell_type": "code",
   "execution_count": 4,
   "id": "7ff45bc3",
   "metadata": {},
   "outputs": [],
   "source": [
    "# Segment the dataset by splitting into positive and negative datasets\n",
    "positive_tweets = twitter_samples.strings('positive_tweets.json')\n",
    "negative_tweets = twitter_samples.strings('negative_tweets.json')"
   ]
  },
  {
   "cell_type": "code",
   "execution_count": 10,
   "id": "b3a5e4e4",
   "metadata": {},
   "outputs": [
    {
     "data": {
      "text/plain": [
       "['#FollowFriday @France_Inte @PKuchly57 @Milipol_Paris for being top engaged members in my community this week :)',\n",
       " '@Lamb2ja Hey James! How odd :/ Please call our Contact Centre on 02392441234 and we will be able to assist you :) Many thanks!']"
      ]
     },
     "execution_count": 10,
     "metadata": {},
     "output_type": "execute_result"
    }
   ],
   "source": [
    "# overveiw of postive tweets\n",
    "positive_tweets[:2]"
   ]
  },
  {
   "cell_type": "code",
   "execution_count": 13,
   "id": "618f714e",
   "metadata": {},
   "outputs": [
    {
     "data": {
      "text/plain": [
       "['hopeless for tmr :(',\n",
       " \"Everything in the kids section of IKEA is so cute. Shame I'm nearly 19 in 2 months :(\"]"
      ]
     },
     "execution_count": 13,
     "metadata": {},
     "output_type": "execute_result"
    }
   ],
   "source": [
    "# overveiw on postive tweets\n",
    "negative_tweets[:2]"
   ]
  },
  {
   "cell_type": "code",
   "execution_count": null,
   "id": "3b915a7a",
   "metadata": {},
   "outputs": [],
   "source": [
    "# Now let's look at the # of positive tweets and number of negative tweets leveraging len() function\n",
    "\n",
    "print('positive tweets number: ', len(positive_tweets), \"type of tweets:\", type(positive_tweets) )\n",
    "print('negative  tweets number: ', len(negative_tweets), \"type of negative tweets:\", type(negative_tweets)"
   ]
  }
 ],
 "metadata": {
  "hide_input": false,
  "kernelspec": {
   "display_name": "Python 3",
   "language": "python",
   "name": "python3"
  },
  "language_info": {
   "codemirror_mode": {
    "name": "ipython",
    "version": 3
   },
   "file_extension": ".py",
   "mimetype": "text/x-python",
   "name": "python",
   "nbconvert_exporter": "python",
   "pygments_lexer": "ipython3",
   "version": "3.8.8"
  }
 },
 "nbformat": 4,
 "nbformat_minor": 5
}
